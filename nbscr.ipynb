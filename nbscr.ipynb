{
 "cells": [
  {
   "cell_type": "code",
   "execution_count": null,
   "metadata": {},
   "outputs": [],
   "source": [
    "import Pkg;\n",
    "Pkg.add"
   ]
  },
  {
   "cell_type": "code",
   "execution_count": 98,
   "metadata": {},
   "outputs": [
    {
     "ename": "ArgumentError",
     "evalue": "ArgumentError: Package notebook2script not found in current path:\n- Run `import Pkg; Pkg.add(\"notebook2script\")` to install the notebook2script package.\n",
     "output_type": "error",
     "traceback": [
      "ArgumentError: Package notebook2script not found in current path:\n- Run `import Pkg; Pkg.add(\"notebook2script\")` to install the notebook2script package.\n",
      "",
      "Stacktrace:",
      " [1] require(::Module, ::Symbol) at ./loading.jl:892",
      " [2] top-level scope at In[98]:1"
     ]
    }
   ],
   "source": [
    "using notebook2script"
   ]
  },
  {
   "cell_type": "code",
   "execution_count": 93,
   "metadata": {},
   "outputs": [],
   "source": [
    "using JSON"
   ]
  },
  {
   "cell_type": "code",
   "execution_count": 94,
   "metadata": {},
   "outputs": [
    {
     "data": {
      "text/plain": [
       "Dict{String,Any} with 4 entries:\n",
       "  \"cells\"          => Any[Dict{String,Any}(\"cell_type\"=>\"markdown\",\"source\"=>An…\n",
       "  \"nbformat_minor\" => 4\n",
       "  \"metadata\"       => Dict{String,Any}(\"language_info\"=>Dict{String,Any}(\"file_…\n",
       "  \"nbformat\"       => 4"
      ]
     },
     "execution_count": 94,
     "metadata": {},
     "output_type": "execute_result"
    }
   ],
   "source": [
    "dict2 = Dict()\n",
    "open(\"/home/subhaditya/Desktop/GITHUB/DataLoader.jl/DataLoader.jl.ipynb\", \"r\") do f\n",
    "    global dict2\n",
    "    dict2=JSON.parse(f)  \n",
    "end"
   ]
  },
  {
   "cell_type": "code",
   "execution_count": 95,
   "metadata": {},
   "outputs": [],
   "source": [
    "gstr = \"\";"
   ]
  },
  {
   "cell_type": "code",
   "execution_count": 96,
   "metadata": {},
   "outputs": [],
   "source": [
    "for a in dict2[\"cells\"]\n",
    "    if \"#export\\n\" in a[\"source\"]\n",
    "        temp = a[\"source\"]\n",
    "        temp = filter!(e->e≠\"#export\\n\",temp)\n",
    "        gstr*= join(temp)\n",
    "        gstr*=\"\\n\"\n",
    "    end\n",
    "end"
   ]
  },
  {
   "cell_type": "code",
   "execution_count": 97,
   "metadata": {},
   "outputs": [],
   "source": [
    "io = open(\"fn.jl\", \"w\")\n",
    "write(io, gstr)\n",
    "close(io)"
   ]
  },
  {
   "cell_type": "code",
   "execution_count": null,
   "metadata": {},
   "outputs": [],
   "source": []
  }
 ],
 "metadata": {
  "kernelspec": {
   "display_name": "Julia 1.4.1",
   "language": "julia",
   "name": "julia-1.4"
  },
  "language_info": {
   "file_extension": ".jl",
   "mimetype": "application/julia",
   "name": "julia",
   "version": "1.4.1"
  },
  "widgets": {
   "application/vnd.jupyter.widget-state+json": {
    "state": {},
    "version_major": 2,
    "version_minor": 0
   }
  }
 },
 "nbformat": 4,
 "nbformat_minor": 4
}
